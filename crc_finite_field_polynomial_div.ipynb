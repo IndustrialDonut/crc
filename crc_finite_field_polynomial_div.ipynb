{
 "cells": [
  {
   "cell_type": "code",
   "execution_count": 1,
   "id": "f530af8c-1020-456c-8048-fe9552f839ab",
   "metadata": {},
   "outputs": [],
   "source": [
    "import math\n",
    "import functools"
   ]
  },
  {
   "cell_type": "code",
   "execution_count": 2,
   "id": "00c1fee6-0b7a-4df5-a598-86e00b6228ec",
   "metadata": {},
   "outputs": [],
   "source": [
    "def list_to_binary(l):\n",
    "    b = 0\n",
    "    for i in l:\n",
    "        b += 1<<i\n",
    "    return b\n",
    "\n",
    "def decode(b, n):\n",
    "    return b.to_bytes(n, 'big').decode('utf8')\n",
    "\n",
    "def largest_power(b):\n",
    "    s = bin(b)[2:]\n",
    "    p = len(s) - 1\n",
    "    for h in s:\n",
    "        if h == '1':\n",
    "            return p\n",
    "        p -= 1\n",
    "    return -1 # if there is no largest power, return -1 actually, since it's all 0!! and a 0x01 would be largest power 0 since x^0\n",
    "\n",
    "# this should be implementable in hardware, combinationally, rather than string manipulation\n",
    "def largest_power_hardware(a):\n",
    "    p = 0\n",
    "    while a > 1:\n",
    "        a >>= 1\n",
    "        p += 1\n",
    "    return p\n",
    "\n",
    "def difference_power_hardware(a, b):\n",
    "    \"\"\"Take ints a and b, where b is known to be smaller. Return and int that is the number of places values \n",
    "    each a and b's MSB is different. The difference in degree n of each polynomial representation.\"\"\"\n",
    "    original_b = b\n",
    "    p = 0\n",
    "    while (a ^ b) > original_b:\n",
    "        a >>= 1\n",
    "        p += 1\n",
    "    return p\n",
    "\n",
    "def powers(b):\n",
    "    s = bin(b)[2:]\n",
    "    p = len(s) - 1\n",
    "    ps = []\n",
    "    for h in s:\n",
    "        if h == '1':\n",
    "            ps.append(p)\n",
    "        p -= 1\n",
    "    return ps"
   ]
  },
  {
   "cell_type": "code",
   "execution_count": 3,
   "id": "d8cec872-6ef0-44c9-8759-bb5edbecf333",
   "metadata": {},
   "outputs": [],
   "source": [
    "# The following notebook will compute a CRC 16 on a message\n",
    "\n",
    "# divide the following\n",
    "# x^38 + x^35 + x^30 + x^29 + x^27 + x^24 + x^21 + x^16  <-- divisor / message + padded zeroes for room for CRC\n",
    "# by\n",
    "# x^16 + x^12 + x^5 + 1  <-- generator\n",
    "# result will be the remainder, which we will subtract from the divisor (aka the MESSAGE), and that will be our \n",
    "# full message + CRC\n",
    "\n",
    "divisor = [38, 35, 30, 29, 27, 24, 21, 16] # this was given before, as the message for 'Hi!'\n",
    "GENERATOR16 = [16, 12, 5, 0]\n",
    "GENERATOR32 = 0x104C11DB7"
   ]
  },
  {
   "cell_type": "code",
   "execution_count": 4,
   "id": "7ecb8902-013a-447e-a6fd-a293138a3161",
   "metadata": {},
   "outputs": [],
   "source": [
    "def frame_message(message='Hi!', crc_size=16):\n",
    "    encoded_message = int.from_bytes(message.encode('utf8'), signed=False)\n",
    "    encoded_message <<= crc_size # bitshift for crc16\n",
    "    return encoded_message\n",
    "\n",
    "assert powers(frame_message()) == divisor"
   ]
  },
  {
   "cell_type": "code",
   "execution_count": 5,
   "id": "7a4c86e9-2aad-4aea-b483-628753b36508",
   "metadata": {},
   "outputs": [],
   "source": [
    "message = 'Abc..is easy as 123'\n",
    "CRC_SIZE = 32\n",
    "encoded_message = frame_message(message, crc_size=CRC_SIZE)\n",
    "\n",
    "# Determine size of crc with generator ...\n",
    "if CRC_SIZE == 32:\n",
    "    generator_bin = GENERATOR32\n",
    "elif CRC_SIZE == 16:\n",
    "    generator_bin = list_to_binary(GENERATOR16)\n",
    "else:\n",
    "    print('invalid CRC size')"
   ]
  },
  {
   "cell_type": "code",
   "execution_count": 6,
   "id": "b8bf558a-f83d-4d63-9884-660b3d7c2d08",
   "metadata": {},
   "outputs": [
    {
     "name": "stdout",
     "output_type": "stream",
     "text": [
      "Encoded message in divisor polynomial is: \n",
      "\"\u0000\u0000\u0000\u0000\u0000\u0000\u0000\u0000\u0000\u0000\u0000\u0000\u0000\u0000\u0000Abc..is easy as 123\u0000\u0000\u0000\u0000\"\n"
     ]
    }
   ],
   "source": [
    "message_bin = encoded_message # list_to_binary(divisor)\n",
    "print(f\"Encoded message in divisor polynomial is: \\n\\\"{decode(message_bin, max(divisor))}\\\"\")"
   ]
  },
  {
   "cell_type": "code",
   "execution_count": 7,
   "id": "90aca7ea-2235-48d3-8c40-3fa9f83b2956",
   "metadata": {},
   "outputs": [],
   "source": [
    "def crc_factory(generator, verbose=False):\n",
    "    return functools.partial(crc, generator_bin=generator)\n",
    "\n",
    "def crc(divisor_bin, generator_bin):\n",
    "    while abs(generator_bin) < abs(divisor_bin): # largest_power(generator_bin) < largest_power(divisor_bin)\n",
    "        # find difference in place values (difference in degree of the polynomials) of divisor and generator\n",
    "        p_diff = difference_power_hardware(divisor_bin, generator_bin) # m_deg - g_deg\n",
    "        \n",
    "        # multiply g(x) by the difference in highest powers\n",
    "        d = generator_bin << p_diff\n",
    "        \n",
    "        # do r - d  or XOR r with d, subtract the result to keep going with long division..\n",
    "        divisor_bin = divisor_bin ^ d\n",
    "    return divisor_bin\n",
    "\n",
    "remainder = crc(message_bin, generator_bin)"
   ]
  },
  {
   "cell_type": "code",
   "execution_count": 8,
   "id": "cf8fcfb0-e758-4665-b32b-233e9f495d84",
   "metadata": {},
   "outputs": [],
   "source": [
    "# 'subtract' the remainder so now our message + crc will give us 0 when we run it\n",
    "# through the same polynomial division!\n",
    "message_w_crc = message_bin ^ remainder \n",
    "assert 0 == crc(message_w_crc, generator_bin)"
   ]
  },
  {
   "cell_type": "code",
   "execution_count": 9,
   "id": "727174d7-e57f-4adb-954b-d1048984d4c8",
   "metadata": {},
   "outputs": [
    {
     "name": "stdout",
     "output_type": "stream",
     "text": [
      "100000101100010011000110010111000101110011010010111001100100000011001010110000101110011011110010010000001100001011100110010000000110001001100100011001111001010100110101010101111111000\n",
      "1000001011000100110001100101110001011100110100101110011001000000110010101100001011100110111100100100000011000010111001100100000001100010011001000110011\n"
     ]
    },
    {
     "data": {
      "text/plain": [
       "'Abc..is easy as 123'"
      ]
     },
     "execution_count": 9,
     "metadata": {},
     "output_type": "execute_result"
    }
   ],
   "source": [
    "print(bin(message_w_crc)[2:])\n",
    "s = bin(message_w_crc)[2:-CRC_SIZE]\n",
    "print(s)\n",
    "verified_message = int(s, base=2).to_bytes(math.ceil(len(s)/8), 'big').decode('utf8')\n",
    "verified_message"
   ]
  },
  {
   "cell_type": "code",
   "execution_count": 10,
   "id": "03638757-a4e9-4a27-8f43-66dfebaa9aeb",
   "metadata": {},
   "outputs": [
    {
     "name": "stdout",
     "output_type": "stream",
     "text": [
      "2523207787\n",
      "2523207787\n",
      "0b10010110011001010001100001101011\n",
      "0b10010110011001010001100001101011\n",
      "0x9665186b\n",
      "0x9665186b\n"
     ]
    }
   ],
   "source": [
    "# CRC PER 802.3 SECTION 3.2.9\n",
    "# generator = G(x) = x32 + x26 + x23 + x22 + x16 + x12 + x11 + x10 + x8 + x7 + x5 + x4 + x2 + x + 1\n",
    "generator = (1<<32) + (1<<26) + (1<<23) + (1<<22) + (1<<16) + (1<<12) + (1<<11) + (1<<10) + (1<<8) + (1<<7) + (1<<5) + (1<<4) + (1<<2) + (1<<1) + (1<<0)\n",
    "crc32_func = crc_factory(generator)\n",
    "\n",
    "def crc32(crc_frame_bits, func=crc32_func):\n",
    "    # step a, complement first 32 bits of frame\n",
    "    for i in range(32):\n",
    "        if crc_frame_bits[i] == '1':\n",
    "            crc_frame_bits[i] = '0'\n",
    "        else:\n",
    "            crc_frame_bits[i] = '1'\n",
    "    \n",
    "    # step b, take the n bits in the order the arrived in, from destination mac start to end of frame, as coefficients\n",
    "    crc_frame_bits = crc_frame_bits[:-32] # just lop off the crc that came with it\n",
    "    \n",
    "    # step c, shift bits by 32 and fill with 0, then divide by the generator\n",
    "    # when using a library for crc calcs, DO NOT SHIFT THE INPUT by 32, since they will automatically do this..\n",
    "    crc_frame_bin = int(''.join(crc_frame_bits), base=2) << 32\n",
    "    \n",
    "    # DO CRC CALCULATION AND GET REMAINDER \n",
    "    r = crc32_func(crc_frame_bin)\n",
    "    t = ~r  # ^ 0xFFFFFFFF # one's-complement the output as required by 802.3\n",
    "    return t & 0xFFFFFFFF # mask to only keep the first 32 bits\n",
    "\n",
    "with open('framebits.txt', 'r') as f:\n",
    "    # read frame-bits 32 from ethernet frame\n",
    "    # crc included at the end\n",
    "    # raw bits though as per the mac frame transmission order - not reversed or anything\n",
    "    s = f.read()\n",
    "\n",
    "r = crc32(list(s))\n",
    "known_crc = int(s[-32:], base=2)\n",
    "assert known_crc == r # crc should be 2523207787 per framebits.txt\n",
    "print(r)\n",
    "print(known_crc)\n",
    "print(bin(r))\n",
    "print(bin(known_crc))\n",
    "print(hex(r))\n",
    "print(hex(known_crc))"
   ]
  }
 ],
 "metadata": {
  "kernelspec": {
   "display_name": "Python 3 (ipykernel)",
   "language": "python",
   "name": "python3"
  },
  "language_info": {
   "codemirror_mode": {
    "name": "ipython",
    "version": 3
   },
   "file_extension": ".py",
   "mimetype": "text/x-python",
   "name": "python",
   "nbconvert_exporter": "python",
   "pygments_lexer": "ipython3",
   "version": "3.11.4"
  }
 },
 "nbformat": 4,
 "nbformat_minor": 5
}
